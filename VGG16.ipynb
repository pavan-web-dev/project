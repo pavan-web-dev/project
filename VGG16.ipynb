{
  "nbformat": 4,
  "nbformat_minor": 0,
  "metadata": {
    "colab": {
      "name": "VGG16.ipynb",
      "provenance": []
    },
    "kernelspec": {
      "name": "python3",
      "display_name": "Python 3"
    },
    "language_info": {
      "name": "python"
    },
    "accelerator": "GPU"
  },
  "cells": [
    {
      "cell_type": "markdown",
      "source": [
        "In this notebook we will train a VGG 16 model to classify a manta ray. "
      ],
      "metadata": {
        "id": "57AaxJVeEkaB"
      }
    },
    {
      "cell_type": "code",
      "execution_count": 27,
      "metadata": {
        "id": "BiCUMBczYNxR"
      },
      "outputs": [],
      "source": [
        "import os\n",
        "import random\n",
        "import itertools\n",
        "import numpy as np \n",
        "import pandas as pd\n",
        "import matplotlib.pyplot as plt\n",
        "\n",
        "import tensorflow as tf\n",
        "from tensorflow.keras.applications import VGG16\n",
        "from tensorflow.keras.applications.vgg16 import preprocess_input\n",
        "from tensorflow.keras.preprocessing.image import ImageDataGenerator\n",
        "\n",
        "import cv2\n",
        "\n",
        "from sklearn.metrics import confusion_matrix, accuracy_score\n",
        "\n",
        "from keras.callbacks import History \n",
        "history = History()"
      ]
    },
    {
      "cell_type": "code",
      "source": [
        "def wrap_generator(generator):\n",
        "  '''Function to generate the second class. Since, we are dealing with a single mantaray class.\n",
        "   0 is for noise and 1 for manta ray image.'''\n",
        "\n",
        "  while True:\n",
        "      x,y = next(generator)\n",
        "      y = tf.keras.utils.to_categorical(y)\n",
        "      zeros = tf.zeros_like(y) + tf.constant([1.,0.])\n",
        "      y = tf.concat([y,zeros], axis=0)\n",
        "      \n",
        "      yield x,y"
      ],
      "metadata": {
        "id": "R7IZpSDtYSS1"
      },
      "execution_count": 30,
      "outputs": []
    },
    {
      "cell_type": "code",
      "source": [
        "train_datagen = ImageDataGenerator()\n",
        "pred_datagen = ImageDataGenerator()"
      ],
      "metadata": {
        "id": "hFBRuTEcYiwB"
      },
      "execution_count": 31,
      "outputs": []
    },
    {
      "cell_type": "code",
      "source": [
        "# change as you want\n",
        "IMAGE_SIZE = (224, 224)\n",
        "BATCH_SIZE = 32\n",
        "TRAIN_DIR = '/content/drive/MyDrive/data_folder/train_data'\n",
        "VALI_DIR = '/content/drive/MyDrive/data_folder/val_data'\n",
        "LR = 1e-4\n",
        "SEED = 77"
      ],
      "metadata": {
        "id": "6T8YJJ_HZJSd"
      },
      "execution_count": 32,
      "outputs": []
    },
    {
      "cell_type": "code",
      "source": [
        "tf.random.set_seed(SEED)\n",
        "os.environ['PYTHONHASHSEED'] = str(SEED)\n",
        "np.random.seed(SEED)\n",
        "random.seed(SEED)"
      ],
      "metadata": {
        "id": "VdQt9O61HBRR"
      },
      "execution_count": 36,
      "outputs": []
    },
    {
      "cell_type": "code",
      "source": [
        "train_generator = train_datagen.flow_from_directory(\n",
        "            directory = TRAIN_DIR,\n",
        "            target_size = IMAGE_SIZE,\n",
        "            batch_size = BATCH_SIZE,\n",
        "            class_mode = 'categorical',\n",
        "            shuffle = True,\n",
        "            seed = SEED,\n",
        "            classes = ['mantaray']\n",
        "    )"
      ],
      "metadata": {
        "colab": {
          "base_uri": "https://localhost:8080/"
        },
        "id": "lxcuRLoXYlor",
        "outputId": "6a09efaf-0ffb-4854-dc7e-7dfcc9cf325e"
      },
      "execution_count": 37,
      "outputs": [
        {
          "output_type": "stream",
          "name": "stdout",
          "text": [
            "Found 2839 images belonging to 1 classes.\n"
          ]
        }
      ]
    },
    {
      "cell_type": "code",
      "source": [
        "pred_generator = pred_datagen.flow_from_directory(\n",
        "            VALI_DIR,\n",
        "            target_size = IMAGE_SIZE,\n",
        "            batch_size = BATCH_SIZE,\n",
        "            class_mode = 'categorical',\n",
        "            shuffle = True,\n",
        "            seed = SEED,\n",
        "            classes = ['mantaray','not_manta']\n",
        ")"
      ],
      "metadata": {
        "colab": {
          "base_uri": "https://localhost:8080/"
        },
        "id": "p1oeodfSvdYz",
        "outputId": "40d853e1-51c5-4d42-bf27-2dcdefbdadf4"
      },
      "execution_count": 38,
      "outputs": [
        {
          "output_type": "stream",
          "name": "stdout",
          "text": [
            "Found 1953 images belonging to 2 classes.\n"
          ]
        }
      ]
    },
    {
      "cell_type": "markdown",
      "source": [
        "Here the other class is just background images."
      ],
      "metadata": {
        "id": "Vq37HMk-Gevm"
      }
    },
    {
      "cell_type": "code",
      "source": [
        "def custom_model(ct=True):\n",
        "\n",
        "  pre_process = tf.keras.layers.Lambda(preprocess_input)\n",
        "  vgg = tf.keras.applications.VGG16(weights = 'imagenet', include_top = True, input_shape = IMAGE_SIZE + (3,))\n",
        "  vgg = tf.keras.Model(vgg.input, vgg.layers[-3].output)\n",
        "  vgg.trainable = False\n",
        "  \n",
        "  inp = tf.keras.Input(IMAGE_SIZE + (3,))\n",
        "  vgg_16_process = pre_process(tf.keras.layers.GaussianNoise(0.1)(inp))\n",
        "  vgg_out = vgg(vgg_16_process)\n",
        "  \n",
        "  noise = tf.keras.layers.Lambda(tf.zeros_like)(vgg_out)\n",
        "  noise = tf.keras.layers.GaussianNoise(0.1)(noise)\n",
        "\n",
        "  if ct:\n",
        "      x = tf.keras.layers.Lambda(lambda z: tf.concat(z, axis=0))([vgg_out,noise])\n",
        "      x = tf.keras.layers.Activation('relu')(x)\n",
        "  else:\n",
        "      x = vgg_out\n",
        "      \n",
        "  x = tf.keras.layers.Dense(512, activation='relu')(x)\n",
        "  x = tf.keras.layers.Dense(128, activation='relu')(x)\n",
        "  out = tf.keras.layers.Dense(2, activation='softmax')(x)\n",
        "\n",
        "  model = tf.keras.Model(inp, out)\n",
        "  model.compile(tf.keras.optimizers.Adam(learning_rate=LR), loss='binary_crossentropy')\n",
        "  \n",
        "  return model"
      ],
      "metadata": {
        "id": "fFcM77ftZdwa"
      },
      "execution_count": 41,
      "outputs": []
    },
    {
      "cell_type": "code",
      "source": [
        "es = tf.keras.callbacks.EarlyStopping(monitor='val_loss', mode='auto', restore_best_weights=True, verbose=1, patience=5)\n",
        "\n",
        "model = custom_model()\n",
        "model.fit(wrap_generator(train_generator), steps_per_epoch=train_generator.samples/train_generator.batch_size, epochs=7, callbacks=[history])"
      ],
      "metadata": {
        "colab": {
          "base_uri": "https://localhost:8080/"
        },
        "id": "yHvrQ7VHbZqG",
        "outputId": "18298ddb-c632-458b-d776-29aefc77cc6a"
      },
      "execution_count": 42,
      "outputs": [
        {
          "output_type": "stream",
          "name": "stdout",
          "text": [
            "Epoch 1/7\n",
            "88/88 [==============================] - 197s 2s/step - loss: 0.2380\n",
            "Epoch 2/7\n",
            "88/88 [==============================] - 188s 2s/step - loss: 0.0382\n",
            "Epoch 3/7\n",
            "88/88 [==============================] - 191s 2s/step - loss: 0.0119\n",
            "Epoch 4/7\n",
            "88/88 [==============================] - 191s 2s/step - loss: 0.0046\n",
            "Epoch 5/7\n",
            "88/88 [==============================] - 197s 2s/step - loss: 0.0022\n",
            "Epoch 6/7\n",
            "88/88 [==============================] - 202s 2s/step - loss: 0.0014\n",
            "Epoch 7/7\n",
            "88/88 [==============================] - 226s 3s/step - loss: 0.0010\n"
          ]
        },
        {
          "output_type": "execute_result",
          "data": {
            "text/plain": [
              "<keras.callbacks.History at 0x7fd1bcbdff10>"
            ]
          },
          "metadata": {},
          "execution_count": 42
        }
      ]
    },
    {
      "cell_type": "code",
      "source": [
        "history.history"
      ],
      "metadata": {
        "colab": {
          "base_uri": "https://localhost:8080/"
        },
        "id": "9Ni1NxNaONJB",
        "outputId": "06478504-d82c-4f75-e937-d01c2387873c"
      },
      "execution_count": 47,
      "outputs": [
        {
          "output_type": "execute_result",
          "data": {
            "text/plain": [
              "{'loss': [0.23795777559280396,\n",
              "  0.03820056840777397,\n",
              "  0.011900760233402252,\n",
              "  0.004630424547940493,\n",
              "  0.0022097087930887938,\n",
              "  0.0013834715355187654,\n",
              "  0.0010216424707323313]}"
            ]
          },
          "metadata": {},
          "execution_count": 47
        }
      ]
    },
    {
      "cell_type": "code",
      "source": [
        "import matplotlib.pyplot as plt\n",
        "\n",
        "plt.plot(history.history['loss'])\n",
        "plt.xlabel('Epochs')\n",
        "plt.ylabel('Loss')\n",
        "plt.title('Training Loss of VGG16 Model')\n",
        "plt.show()"
      ],
      "metadata": {
        "colab": {
          "base_uri": "https://localhost:8080/",
          "height": 295
        },
        "id": "S8xYN59iN8px",
        "outputId": "104f23b4-6345-40e4-a4d4-b9ce753f441a"
      },
      "execution_count": 52,
      "outputs": [
        {
          "output_type": "display_data",
          "data": {
            "text/plain": [
              "<Figure size 432x288 with 1 Axes>"
            ],
            "image/png": "[encoded data removed]"
          },
          "metadata": {
            "needs_background": "light"
          }
        }
      ]
    },
    {
      "cell_type": "markdown",
      "source": [
        "Now let us perform inference."
      ],
      "metadata": {
        "id": "mkKKEYpKOdoN"
      }
    },
    {
      "cell_type": "code",
      "source": [
        "model.save('my_custom_vgg_model.h5')"
      ],
      "metadata": {
        "id": "QJOwy8g-OlCp"
      },
      "execution_count": 53,
      "outputs": []
    },
    {
      "cell_type": "code",
      "source": [
        "# !cp /content/my_custom_vgg_model.h5 /content/drive/MyDrive/models"
      ],
      "metadata": {
        "id": "MkWq1qfKO4pd"
      },
      "execution_count": 54,
      "outputs": []
    },
    {
      "cell_type": "markdown",
      "source": [
        "Now, let us test on test set. This code takes a lot of time to run, because, inference using VGG is slow, therefore thank you for your patience. The group is trying to optimize this by using tensors, and loading the entire dataset into memory, and that work is in progress."
      ],
      "metadata": {
        "id": "uELj5eBLPD-D"
      }
    },
    {
      "cell_type": "code",
      "source": [
        "test_num = pred_generator.samples\n",
        "\n",
        "label_test = []\n",
        "\n",
        "for i in range((test_num // pred_generator.batch_size)+1):\n",
        "    X,y = pred_generator.next()\n",
        "    label_test.append(y)\n",
        "        \n",
        "label_test = np.argmax(np.vstack(label_test), axis=1)\n",
        "label_test.shape"
      ],
      "metadata": {
        "colab": {
          "base_uri": "https://localhost:8080/"
        },
        "id": "OvSMh3GUvQLZ",
        "outputId": "e470f4a3-3274-43f7-ca73-5ab916652cfc"
      },
      "execution_count": 56,
      "outputs": [
        {
          "output_type": "execute_result",
          "data": {
            "text/plain": [
              "(1953,)"
            ]
          },
          "metadata": {},
          "execution_count": 56
        }
      ]
    },
    {
      "cell_type": "code",
      "source": [
        "ineference_model = custom_model(ct=False)\n",
        "ineference_model.set_weights(model.get_weights())"
      ],
      "metadata": {
        "id": "dkzekeY6wE8K"
      },
      "execution_count": 58,
      "outputs": []
    },
    {
      "cell_type": "code",
      "source": [
        "pred_test = np.argmax(ineference_model.predict(pred_generator), axis=1)"
      ],
      "metadata": {
        "id": "Ut5_jj9pwPkw"
      },
      "execution_count": 60,
      "outputs": []
    },
    {
      "cell_type": "code",
      "source": [
        "# We need to flip the prediction because, we have considered 1 as manta and 0 as not manta.\n",
        "pred_test = np.where(pred_test==1,0,1)"
      ],
      "metadata": {
        "id": "EWbVsYlJ5toz"
      },
      "execution_count": 62,
      "outputs": []
    },
    {
      "cell_type": "code",
      "source": [
        "print(f'TEST ACCURACY: {(accuracy_score(label_test, pred_test)* 100):.2f} %')"
      ],
      "metadata": {
        "colab": {
          "base_uri": "https://localhost:8080/"
        },
        "id": "eTqCX8YgwS0I",
        "outputId": "1f755cce-cd4f-4011-b8e2-345b4779ab3c"
      },
      "execution_count": 70,
      "outputs": [
        {
          "output_type": "stream",
          "name": "stdout",
          "text": [
            "TEST ACCURACY: 64.31 %\n"
          ]
        }
      ]
    },
    {
      "cell_type": "code",
      "source": [
        "import seaborn as sns\n",
        "cf_matrix = confusion_matrix(label_test, pred_test)\n",
        "ax = sns.heatmap(cf_matrix, annot=True, cmap='Blues', fmt='g')\n",
        "\n",
        "ax.set_title('Confusion Matrix for Test Set\\n\\n');\n",
        "ax.set_xlabel('\\nPredicted Values')\n",
        "ax.set_ylabel('Actual Values ');\n",
        "\n",
        "## Ticket labels - List must be in alphabetical order\n",
        "ax.xaxis.set_ticklabels(['Not Manta','Manta'])\n",
        "ax.yaxis.set_ticklabels(['Not Manta','Manta'])\n",
        "\n",
        "## Display the visualization of the Confusion Matrix.\n",
        "plt.show()"
      ],
      "metadata": {
        "colab": {
          "base_uri": "https://localhost:8080/",
          "height": 337
        },
        "id": "wp30DLJgR97q",
        "outputId": "56542383-c936-4196-b456-0c082d65d6b4"
      },
      "execution_count": 74,
      "outputs": [
        {
          "output_type": "display_data",
          "data": {
            "text/plain": [
              "<Figure size 432x288 with 2 Axes>"
            ],
            "image/png": "[encoded data removed]"
          },
          "metadata": {
            "needs_background": "light"
          }
        }
      ]
    },
    {
      "cell_type": "code",
      "source": [
        "predict_proba = ineference_model.predict(pred_generator)"
      ],
      "metadata": {
        "id": "PtjI7Kuf6Wub"
      },
      "execution_count": 77,
      "outputs": []
    },
    {
      "cell_type": "markdown",
      "source": [
        "In the end the total GPU usuage was 13GB, and exceeding this causes the notebook to crash. "
      ],
      "metadata": {
        "id": "hlgrH307bv7h"
      }
    }
  ]
}